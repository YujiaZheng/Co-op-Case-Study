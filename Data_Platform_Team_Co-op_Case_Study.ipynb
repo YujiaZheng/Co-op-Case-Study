{
 "cells": [
  {
   "cell_type": "markdown",
   "id": "7ae378b2",
   "metadata": {},
   "source": [
    "# Data Platform Team Co-op Case Study\n",
    "## By Yujia Zheng, email: y326zhen@uwaterloo.ca"
   ]
  },
  {
   "cell_type": "code",
   "execution_count": 1,
   "id": "39ed2c80",
   "metadata": {},
   "outputs": [],
   "source": [
    "# Import useful packages.\n",
    "import pandas as pd\n",
    "import numpy as np"
   ]
  },
  {
   "cell_type": "code",
   "execution_count": 2,
   "id": "2eb43764",
   "metadata": {},
   "outputs": [],
   "source": [
    "# The given stringified table.\n",
    "data = 'Airline Code;DelayTimes;FlightCodes;To_From\\nAir Canada (!);[21, 40];20015.0;WAterLoo_NEWYork\\n<Air France> (12);[];;Montreal_TORONTO\\n(Porter Airways. );[60, 22, 87];20035.0;CALgary_Ottawa\\n12. Air France;[78, 66];;Ottawa_VANcouvER\\n\"\"\".\\\\.Lufthansa.\\\\.\"\"\";[12, 33];20055.0;london_MONTreal\\n'"
   ]
  },
  {
   "cell_type": "code",
   "execution_count": 3,
   "id": "eed993ac",
   "metadata": {},
   "outputs": [
    {
     "data": {
      "text/plain": [
       "[['Airline Code', 'DelayTimes', 'FlightCodes', 'To_From'],\n",
       " ['Air Canada (!)', '[21, 40]', '20015.0', 'WAterLoo_NEWYork'],\n",
       " ['<Air France> (12)', '[]', '', 'Montreal_TORONTO'],\n",
       " ['(Porter Airways. )', '[60, 22, 87]', '20035.0', 'CALgary_Ottawa'],\n",
       " ['12. Air France', '[78, 66]', '', 'Ottawa_VANcouvER'],\n",
       " ['\"\"\".\\\\.Lufthansa.\\\\.\"\"\"', '[12, 33]', '20055.0', 'london_MONTreal']]"
      ]
     },
     "execution_count": 3,
     "metadata": {},
     "output_type": "execute_result"
    }
   ],
   "source": [
    "# Split the string data by \\n first to get each row of the table.\n",
    "# Then, split by ; to get each cell.\n",
    "data_lists = [sub.split(';') for sub in data.split('\\n')]\n",
    "# Remove the last list which only contains the empty string.\n",
    "data_lists.pop()\n",
    "# Take a look at the coverted lists of data.\n",
    "data_lists"
   ]
  },
  {
   "cell_type": "code",
   "execution_count": 4,
   "id": "72f9fed4",
   "metadata": {},
   "outputs": [
    {
     "data": {
      "text/html": [
       "<div>\n",
       "<style scoped>\n",
       "    .dataframe tbody tr th:only-of-type {\n",
       "        vertical-align: middle;\n",
       "    }\n",
       "\n",
       "    .dataframe tbody tr th {\n",
       "        vertical-align: top;\n",
       "    }\n",
       "\n",
       "    .dataframe thead th {\n",
       "        text-align: right;\n",
       "    }\n",
       "</style>\n",
       "<table border=\"1\" class=\"dataframe\">\n",
       "  <thead>\n",
       "    <tr style=\"text-align: right;\">\n",
       "      <th></th>\n",
       "      <th>Airline Code</th>\n",
       "      <th>DelayTimes</th>\n",
       "      <th>FlightCodes</th>\n",
       "      <th>To_From</th>\n",
       "    </tr>\n",
       "  </thead>\n",
       "  <tbody>\n",
       "    <tr>\n",
       "      <th>0</th>\n",
       "      <td>Air Canada (!)</td>\n",
       "      <td>[21, 40]</td>\n",
       "      <td>20015.0</td>\n",
       "      <td>WAterLoo_NEWYork</td>\n",
       "    </tr>\n",
       "    <tr>\n",
       "      <th>1</th>\n",
       "      <td>&lt;Air France&gt; (12)</td>\n",
       "      <td>[]</td>\n",
       "      <td></td>\n",
       "      <td>Montreal_TORONTO</td>\n",
       "    </tr>\n",
       "    <tr>\n",
       "      <th>2</th>\n",
       "      <td>(Porter Airways. )</td>\n",
       "      <td>[60, 22, 87]</td>\n",
       "      <td>20035.0</td>\n",
       "      <td>CALgary_Ottawa</td>\n",
       "    </tr>\n",
       "    <tr>\n",
       "      <th>3</th>\n",
       "      <td>12. Air France</td>\n",
       "      <td>[78, 66]</td>\n",
       "      <td></td>\n",
       "      <td>Ottawa_VANcouvER</td>\n",
       "    </tr>\n",
       "    <tr>\n",
       "      <th>4</th>\n",
       "      <td>\"\"\".\\.Lufthansa.\\.\"\"\"</td>\n",
       "      <td>[12, 33]</td>\n",
       "      <td>20055.0</td>\n",
       "      <td>london_MONTreal</td>\n",
       "    </tr>\n",
       "  </tbody>\n",
       "</table>\n",
       "</div>"
      ],
      "text/plain": [
       "            Airline Code    DelayTimes FlightCodes           To_From\n",
       "0         Air Canada (!)      [21, 40]     20015.0  WAterLoo_NEWYork\n",
       "1      <Air France> (12)            []              Montreal_TORONTO\n",
       "2     (Porter Airways. )  [60, 22, 87]     20035.0    CALgary_Ottawa\n",
       "3         12. Air France      [78, 66]              Ottawa_VANcouvER\n",
       "4  \"\"\".\\.Lufthansa.\\.\"\"\"      [12, 33]     20055.0   london_MONTreal"
      ]
     },
     "execution_count": 4,
     "metadata": {},
     "output_type": "execute_result"
    }
   ],
   "source": [
    "# Convert the data_lists into a pandas dataframe.\n",
    "# Use the first sublist as the column names of the dataframe.\n",
    "df = pd.DataFrame(data_lists[1:], columns = data_lists[0])\n",
    "# Take a look at the initial dataframe.\n",
    "df"
   ]
  },
  {
   "cell_type": "markdown",
   "id": "6ee62939",
   "metadata": {},
   "source": [
    "## Requirement 1"
   ]
  },
  {
   "cell_type": "code",
   "execution_count": 5,
   "id": "c8f2a409",
   "metadata": {},
   "outputs": [
    {
     "data": {
      "text/html": [
       "<div>\n",
       "<style scoped>\n",
       "    .dataframe tbody tr th:only-of-type {\n",
       "        vertical-align: middle;\n",
       "    }\n",
       "\n",
       "    .dataframe tbody tr th {\n",
       "        vertical-align: top;\n",
       "    }\n",
       "\n",
       "    .dataframe thead th {\n",
       "        text-align: right;\n",
       "    }\n",
       "</style>\n",
       "<table border=\"1\" class=\"dataframe\">\n",
       "  <thead>\n",
       "    <tr style=\"text-align: right;\">\n",
       "      <th></th>\n",
       "      <th>Airline Code</th>\n",
       "      <th>DelayTimes</th>\n",
       "      <th>FlightCodes</th>\n",
       "      <th>To_From</th>\n",
       "    </tr>\n",
       "  </thead>\n",
       "  <tbody>\n",
       "    <tr>\n",
       "      <th>0</th>\n",
       "      <td>Air Canada (!)</td>\n",
       "      <td>[21, 40]</td>\n",
       "      <td>20015</td>\n",
       "      <td>WAterLoo_NEWYork</td>\n",
       "    </tr>\n",
       "    <tr>\n",
       "      <th>1</th>\n",
       "      <td>&lt;Air France&gt; (12)</td>\n",
       "      <td>[]</td>\n",
       "      <td>20025</td>\n",
       "      <td>Montreal_TORONTO</td>\n",
       "    </tr>\n",
       "    <tr>\n",
       "      <th>2</th>\n",
       "      <td>(Porter Airways. )</td>\n",
       "      <td>[60, 22, 87]</td>\n",
       "      <td>20035</td>\n",
       "      <td>CALgary_Ottawa</td>\n",
       "    </tr>\n",
       "    <tr>\n",
       "      <th>3</th>\n",
       "      <td>12. Air France</td>\n",
       "      <td>[78, 66]</td>\n",
       "      <td>20045</td>\n",
       "      <td>Ottawa_VANcouvER</td>\n",
       "    </tr>\n",
       "    <tr>\n",
       "      <th>4</th>\n",
       "      <td>\"\"\".\\.Lufthansa.\\.\"\"\"</td>\n",
       "      <td>[12, 33]</td>\n",
       "      <td>20055</td>\n",
       "      <td>london_MONTreal</td>\n",
       "    </tr>\n",
       "  </tbody>\n",
       "</table>\n",
       "</div>"
      ],
      "text/plain": [
       "            Airline Code    DelayTimes  FlightCodes           To_From\n",
       "0         Air Canada (!)      [21, 40]        20015  WAterLoo_NEWYork\n",
       "1      <Air France> (12)            []        20025  Montreal_TORONTO\n",
       "2     (Porter Airways. )  [60, 22, 87]        20035    CALgary_Ottawa\n",
       "3         12. Air France      [78, 66]        20045  Ottawa_VANcouvER\n",
       "4  \"\"\".\\.Lufthansa.\\.\"\"\"      [12, 33]        20055   london_MONTreal"
      ]
     },
     "execution_count": 5,
     "metadata": {},
     "output_type": "execute_result"
    }
   ],
   "source": [
    "FlightCodes = list(df['FlightCodes'])\n",
    "\n",
    "# Find the index of the first non-missing flight code.\n",
    "valid_idx = 0\n",
    "for i in range(len(FlightCodes)):\n",
    "    if FlightCodes[i] != '':\n",
    "        valid_idx = i\n",
    "        break\n",
    "\n",
    "# Using the fact that flight codes are supposed to increase by 10 with each row, \n",
    "# calculate the first and last flight code in the data,\n",
    "# and use range() to fill in all the flight codes in the middle.\n",
    "first_code = int(float(FlightCodes[valid_idx])) - valid_idx*10\n",
    "last_code = int(float(FlightCodes[valid_idx])) + (len(FlightCodes)-1-valid_idx)*10\n",
    "all_codes = list(range(first_code, last_code+10, 10))\n",
    "\n",
    "# Assume in the given data, there is at least one flight code that is non-missing,\n",
    "# e.g. ['', '', '20035.0', '', '']\n",
    "# The code above could fill all the missing codes.\n",
    "df['FlightCodes'] = all_codes\n",
    "# Take a look at the dataframe.\n",
    "df"
   ]
  },
  {
   "cell_type": "code",
   "execution_count": 6,
   "id": "90bc2eb8",
   "metadata": {},
   "outputs": [
    {
     "data": {
      "text/plain": [
       "dtype('int64')"
      ]
     },
     "execution_count": 6,
     "metadata": {},
     "output_type": "execute_result"
    }
   ],
   "source": [
    "# Check that the type of the FlightCodes column is int.\n",
    "df['FlightCodes'].dtype"
   ]
  },
  {
   "cell_type": "markdown",
   "id": "6cdc382f",
   "metadata": {},
   "source": [
    "## Requirement 2"
   ]
  },
  {
   "cell_type": "code",
   "execution_count": 7,
   "id": "718504ee",
   "metadata": {},
   "outputs": [
    {
     "data": {
      "text/html": [
       "<div>\n",
       "<style scoped>\n",
       "    .dataframe tbody tr th:only-of-type {\n",
       "        vertical-align: middle;\n",
       "    }\n",
       "\n",
       "    .dataframe tbody tr th {\n",
       "        vertical-align: top;\n",
       "    }\n",
       "\n",
       "    .dataframe thead th {\n",
       "        text-align: right;\n",
       "    }\n",
       "</style>\n",
       "<table border=\"1\" class=\"dataframe\">\n",
       "  <thead>\n",
       "    <tr style=\"text-align: right;\">\n",
       "      <th></th>\n",
       "      <th>Airline Code</th>\n",
       "      <th>DelayTimes</th>\n",
       "      <th>FlightCodes</th>\n",
       "      <th>To</th>\n",
       "      <th>From</th>\n",
       "    </tr>\n",
       "  </thead>\n",
       "  <tbody>\n",
       "    <tr>\n",
       "      <th>0</th>\n",
       "      <td>Air Canada (!)</td>\n",
       "      <td>[21, 40]</td>\n",
       "      <td>20015</td>\n",
       "      <td>WATERLOO</td>\n",
       "      <td>NEWYORK</td>\n",
       "    </tr>\n",
       "    <tr>\n",
       "      <th>1</th>\n",
       "      <td>&lt;Air France&gt; (12)</td>\n",
       "      <td>[]</td>\n",
       "      <td>20025</td>\n",
       "      <td>MONTREAL</td>\n",
       "      <td>TORONTO</td>\n",
       "    </tr>\n",
       "    <tr>\n",
       "      <th>2</th>\n",
       "      <td>(Porter Airways. )</td>\n",
       "      <td>[60, 22, 87]</td>\n",
       "      <td>20035</td>\n",
       "      <td>CALGARY</td>\n",
       "      <td>OTTAWA</td>\n",
       "    </tr>\n",
       "    <tr>\n",
       "      <th>3</th>\n",
       "      <td>12. Air France</td>\n",
       "      <td>[78, 66]</td>\n",
       "      <td>20045</td>\n",
       "      <td>OTTAWA</td>\n",
       "      <td>VANCOUVER</td>\n",
       "    </tr>\n",
       "    <tr>\n",
       "      <th>4</th>\n",
       "      <td>\"\"\".\\.Lufthansa.\\.\"\"\"</td>\n",
       "      <td>[12, 33]</td>\n",
       "      <td>20055</td>\n",
       "      <td>LONDON</td>\n",
       "      <td>MONTREAL</td>\n",
       "    </tr>\n",
       "  </tbody>\n",
       "</table>\n",
       "</div>"
      ],
      "text/plain": [
       "            Airline Code    DelayTimes  FlightCodes        To       From\n",
       "0         Air Canada (!)      [21, 40]        20015  WATERLOO    NEWYORK\n",
       "1      <Air France> (12)            []        20025  MONTREAL    TORONTO\n",
       "2     (Porter Airways. )  [60, 22, 87]        20035   CALGARY     OTTAWA\n",
       "3         12. Air France      [78, 66]        20045    OTTAWA  VANCOUVER\n",
       "4  \"\"\".\\.Lufthansa.\\.\"\"\"      [12, 33]        20055    LONDON   MONTREAL"
      ]
     },
     "execution_count": 7,
     "metadata": {},
     "output_type": "execute_result"
    }
   ],
   "source": [
    "# Split To_From into 2 separate columns and convert all to upper case.\n",
    "df[['To', 'From']] = df['To_From'].apply(lambda x: pd.Series(str.upper(str(x)).split('_')))\n",
    "# Drop the original To_From column.\n",
    "df = df.drop(['To_From'], axis=1)\n",
    "# Take a look at the dataframe.\n",
    "df"
   ]
  },
  {
   "cell_type": "markdown",
   "id": "5c2e6adc",
   "metadata": {},
   "source": [
    "## Requirement 3"
   ]
  },
  {
   "cell_type": "code",
   "execution_count": 8,
   "id": "8e00630a",
   "metadata": {},
   "outputs": [
    {
     "name": "stderr",
     "output_type": "stream",
     "text": [
      "/var/folders/_0/jx49pw6d44l_9fx2ktgfwxlc0000gn/T/ipykernel_91840/4228773063.py:6: FutureWarning: The default value of regex will change from True to False in a future version.\n",
      "  df['Airline Code'] = df['Airline Code'].str.replace('[^ A-Za-z]+','').str.strip(' ')\n"
     ]
    },
    {
     "data": {
      "text/html": [
       "<div>\n",
       "<style scoped>\n",
       "    .dataframe tbody tr th:only-of-type {\n",
       "        vertical-align: middle;\n",
       "    }\n",
       "\n",
       "    .dataframe tbody tr th {\n",
       "        vertical-align: top;\n",
       "    }\n",
       "\n",
       "    .dataframe thead th {\n",
       "        text-align: right;\n",
       "    }\n",
       "</style>\n",
       "<table border=\"1\" class=\"dataframe\">\n",
       "  <thead>\n",
       "    <tr style=\"text-align: right;\">\n",
       "      <th></th>\n",
       "      <th>Airline Code</th>\n",
       "      <th>DelayTimes</th>\n",
       "      <th>FlightCodes</th>\n",
       "      <th>To</th>\n",
       "      <th>From</th>\n",
       "    </tr>\n",
       "  </thead>\n",
       "  <tbody>\n",
       "    <tr>\n",
       "      <th>0</th>\n",
       "      <td>Air Canada</td>\n",
       "      <td>[21, 40]</td>\n",
       "      <td>20015</td>\n",
       "      <td>WATERLOO</td>\n",
       "      <td>NEWYORK</td>\n",
       "    </tr>\n",
       "    <tr>\n",
       "      <th>1</th>\n",
       "      <td>Air France</td>\n",
       "      <td>[]</td>\n",
       "      <td>20025</td>\n",
       "      <td>MONTREAL</td>\n",
       "      <td>TORONTO</td>\n",
       "    </tr>\n",
       "    <tr>\n",
       "      <th>2</th>\n",
       "      <td>Porter Airways</td>\n",
       "      <td>[60, 22, 87]</td>\n",
       "      <td>20035</td>\n",
       "      <td>CALGARY</td>\n",
       "      <td>OTTAWA</td>\n",
       "    </tr>\n",
       "    <tr>\n",
       "      <th>3</th>\n",
       "      <td>Air France</td>\n",
       "      <td>[78, 66]</td>\n",
       "      <td>20045</td>\n",
       "      <td>OTTAWA</td>\n",
       "      <td>VANCOUVER</td>\n",
       "    </tr>\n",
       "    <tr>\n",
       "      <th>4</th>\n",
       "      <td>Lufthansa</td>\n",
       "      <td>[12, 33]</td>\n",
       "      <td>20055</td>\n",
       "      <td>LONDON</td>\n",
       "      <td>MONTREAL</td>\n",
       "    </tr>\n",
       "  </tbody>\n",
       "</table>\n",
       "</div>"
      ],
      "text/plain": [
       "     Airline Code    DelayTimes  FlightCodes        To       From\n",
       "0      Air Canada      [21, 40]        20015  WATERLOO    NEWYORK\n",
       "1      Air France            []        20025  MONTREAL    TORONTO\n",
       "2  Porter Airways  [60, 22, 87]        20035   CALGARY     OTTAWA\n",
       "3      Air France      [78, 66]        20045    OTTAWA  VANCOUVER\n",
       "4       Lufthansa      [12, 33]        20055    LONDON   MONTREAL"
      ]
     },
     "execution_count": 8,
     "metadata": {},
     "output_type": "execute_result"
    }
   ],
   "source": [
    "# Clean the Airline Codes to have no punctuation except spaces in the middle.\n",
    "# Keep only alphabetical letters and spaces in the middle, remove all puctuations and digits.\n",
    "# The regex expression means: \n",
    "# replace any character that is not a space or alphabetical letters (upper or lower cases) with nothing.\n",
    "# Since we only keep the spaces in the middle, we need to strip the spaces at the beginning and end.\n",
    "df['Airline Code'] = df['Airline Code'].str.replace('[^ A-Za-z]+','').str.strip(' ')\n",
    "# Take a look at the final dataframe.\n",
    "df"
   ]
  },
  {
   "cell_type": "code",
   "execution_count": 9,
   "id": "ce026727",
   "metadata": {},
   "outputs": [
    {
     "data": {
      "text/plain": [
       "'Airline Code;DelayTimes;FlightCodes;To;From\\nAir Canada;[21, 40];20015;WATERLOO;NEWYORK\\nAir France;[];20025;MONTREAL;TORONTO\\nPorter Airways;[60, 22, 87];20035;CALGARY;OTTAWA\\nAir France;[78, 66];20045;OTTAWA;VANCOUVER\\nLufthansa;[12, 33];20055;LONDON;MONTREAL\\n'"
      ]
     },
     "execution_count": 9,
     "metadata": {},
     "output_type": "execute_result"
    }
   ],
   "source": [
    "# Generate a stringified version of the cleaned final table, if needed.\n",
    "stringified_table = df.to_csv(sep=';', line_terminator='\\n', index=False)\n",
    "stringified_table"
   ]
  }
 ],
 "metadata": {
  "kernelspec": {
   "display_name": "Python 3 (ipykernel)",
   "language": "python",
   "name": "python3"
  },
  "language_info": {
   "codemirror_mode": {
    "name": "ipython",
    "version": 3
   },
   "file_extension": ".py",
   "mimetype": "text/x-python",
   "name": "python",
   "nbconvert_exporter": "python",
   "pygments_lexer": "ipython3",
   "version": "3.9.13"
  }
 },
 "nbformat": 4,
 "nbformat_minor": 5
}
